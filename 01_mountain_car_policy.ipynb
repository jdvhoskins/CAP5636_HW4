{
 "cells": [
  {
   "cell_type": "code",
   "execution_count": 1,
   "metadata": {},
   "outputs": [
    {
     "name": "stdout",
     "output_type": "stream",
     "text": [
      "\u001b[33mWARN: gym.spaces.Box autodetected dtype as <class 'numpy.float32'>. Please provide explicit dtype.\u001b[0m\n"
     ]
    },
    {
     "name": "stderr",
     "output_type": "stream",
     "text": [
      "/home/jeff/.local/lib/python3.6/site-packages/gym/envs/registration.py:14: PkgResourcesDeprecationWarning: Parameters to load are deprecated.  Call .resolve and .require separately.\n",
      "  result = entry_point.load(False)\n"
     ]
    }
   ],
   "source": [
    "import gym\n",
    "import numpy as np\n",
    "\n",
    "%matplotlib inline\n",
    "import matplotlib.pyplot as plt\n",
    "\n",
    "import time\n",
    "env = gym.make(\"MountainCar-v0\")"
   ]
  },
  {
   "cell_type": "code",
   "execution_count": 13,
   "metadata": {},
   "outputs": [],
   "source": [
    "# run one episode \n",
    "def run_episode(weight_vector):\n",
    "    state = env.reset()\n",
    "    total_reward = 0\n",
    "    for _ in np.arange(200):\n",
    "        # state is a 2 dimensional vector\n",
    "        # weight vector is also a 2 dimensional vector\n",
    "        # the action is 0 if the inner product of weight vector and state is negative \n",
    "        #               2                                                    non-negative\n",
    "        if state[1] < 0:\n",
    "            action = 0\n",
    "        elif state[1] > 0:\n",
    "                action = 2\n",
    "        elif state[0] > -0.5:\n",
    "            action = 0\n",
    "        else:\n",
    "            action = 2\n",
    "        \n",
    "        state, reward, done, _ = env.step(action)\n",
    "        total_reward += reward\n",
    "        if done:\n",
    "            break\n",
    "    return total_reward"
   ]
  },
  {
   "cell_type": "code",
   "execution_count": 14,
   "metadata": {},
   "outputs": [],
   "source": [
    "# returns the number of guesses performed till success and the successful weight vector\n",
    "def guess_till_success():\n",
    "    counter = 0\n",
    "    weight_vector = None\n",
    "    total_reward = -200\n",
    "    while total_reward == -200:\n",
    "        counter += 1\n",
    "        weight_vector = np.random.rand(2) * 2.0 - 1.0\n",
    "        total_reward = run_episode(weight_vector)\n",
    "    return counter, weight_vector"
   ]
  },
  {
   "cell_type": "code",
   "execution_count": 15,
   "metadata": {},
   "outputs": [
    {
     "name": "stdout",
     "output_type": "stream",
     "text": [
      "Number of guesses: 1\n",
      "Weight vector: [-0.93269053 -0.60875281]\n"
     ]
    }
   ],
   "source": [
    "counter, weight_vector = guess_till_success()\n",
    "print(\"Number of guesses:\", counter)\n",
    "print(\"Weight vector:\", weight_vector)"
   ]
  },
  {
   "cell_type": "code",
   "execution_count": 19,
   "metadata": {},
   "outputs": [
    {
     "name": "stdout",
     "output_type": "stream",
     "text": [
      "Total reward: -117.0\n"
     ]
    }
   ],
   "source": [
    "total_reward = 0\n",
    "done = False\n",
    "state = env.reset()\n",
    "env.render()\n",
    "time.sleep(0.1)\n",
    "\n",
    "for _ in np.arange(200):\n",
    "    if state[1] < 0:\n",
    "        action = 0\n",
    "    elif state[1] > 0:\n",
    "            action = 2\n",
    "    elif state[0] > -0.5:\n",
    "        action = 0\n",
    "    else:\n",
    "        action = 2\n",
    "\n",
    "    state, reward, done, _ = env.step(action)\n",
    "    total_reward += reward\n",
    "    env.render()\n",
    "    time.sleep(0.01)\n",
    "    if done: break\n",
    "    \n",
    "env.close()\n",
    "print(\"Total reward:\", total_reward)"
   ]
  },
  {
   "cell_type": "code",
   "execution_count": null,
   "metadata": {},
   "outputs": [],
   "source": []
  }
 ],
 "metadata": {
  "kernelspec": {
   "display_name": "Python 3",
   "language": "python",
   "name": "python3"
  },
  "language_info": {
   "codemirror_mode": {
    "name": "ipython",
    "version": 3
   },
   "file_extension": ".py",
   "mimetype": "text/x-python",
   "name": "python",
   "nbconvert_exporter": "python",
   "pygments_lexer": "ipython3",
   "version": "3.6.7"
  }
 },
 "nbformat": 4,
 "nbformat_minor": 2
}
